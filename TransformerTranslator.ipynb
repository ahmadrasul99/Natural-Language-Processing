{
 "cells": [
  {
   "cell_type": "code",
   "execution_count": 1,
   "metadata": {},
   "outputs": [],
   "source": [
    "from torch.nn import Transformer\n",
    "import torchtext\n",
    "import torch\n",
    "from torchtext.data.utils import get_tokenizer\n",
    "from collections import Counter\n",
    "from torchtext.vocab import Vocab\n",
    "from torchtext.utils import download_from_url, extract_archive\n",
    "import io\n",
    "from torch.utils.data import DataLoader\n",
    "from torch.nn.utils.rnn import pad_sequence\n",
    "import torch.nn as nn\n",
    "from einops import rearrange\n",
    "import math\n",
    "from datetime import datetime\n",
    "from torch.utils.tensorboard import SummaryWriter\n",
    "import time"
   ]
  },
  {
   "cell_type": "code",
   "execution_count": 2,
   "metadata": {},
   "outputs": [],
   "source": [
    "url_base = 'https://nlp.stanford.edu/projects/nmt/data/wmt14.en-de/'\n",
    "train_urls = ('train.de', 'train.en')\n",
    "val_urls = ('newstest2015.de', 'newstest2015.en')\n",
    "test_urls = ('test_2016_flickr.de.gz', 'test_2016_flickr.en.gz')"
   ]
  },
  {
   "cell_type": "code",
   "execution_count": 6,
   "metadata": {},
   "outputs": [],
   "source": [
    "url_base = 'https://raw.githubusercontent.com/multi30k/dataset/master/data/task1/raw/'\n",
    "train_urls = ('train.de.gz', 'train.en.gz')\n",
    "val_urls = ('val.de.gz', 'val.en.gz')\n",
    "test_urls = ('test_2016_flickr.de.gz', 'test_2016_flickr.en.gz')"
   ]
  },
  {
   "cell_type": "code",
   "execution_count": 7,
   "metadata": {},
   "outputs": [],
   "source": [
    "train_filepaths = [download_from_url(url_base + url) for url in train_urls]\n",
    "val_filepaths = [download_from_url(url_base + url) for url in val_urls]\n",
    "test_filepaths = [download_from_url(url_base + url) for url in test_urls]\n"
   ]
  },
  {
   "cell_type": "code",
   "execution_count": 8,
   "metadata": {},
   "outputs": [],
   "source": [
    "de_tokenizer = get_tokenizer('spacy', language='de_core_news_sm')\n",
    "en_tokenizer = get_tokenizer('spacy', language='en_core_web_sm')"
   ]
  },
  {
   "cell_type": "code",
   "execution_count": 84,
   "metadata": {},
   "outputs": [
    {
     "data": {
      "text/plain": [
       "['.data/train.de', '.data/train.en']"
      ]
     },
     "execution_count": 84,
     "metadata": {},
     "output_type": "execute_result"
    }
   ],
   "source": [
    "train_filepaths"
   ]
  },
  {
   "cell_type": "code",
   "execution_count": 9,
   "metadata": {},
   "outputs": [],
   "source": [
    "train_filepaths = [extract_archive(download_from_url(url_base + url))[0] for url in train_urls]\n",
    "val_filepaths = [extract_archive(download_from_url(url_base + url))[0] for url in val_urls]\n",
    "test_filepaths = [extract_archive(download_from_url(url_base + url))[0] for url in test_urls]\n",
    "de_tokenizer = get_tokenizer('spacy', language='de_core_news_sm')\n",
    "en_tokenizer = get_tokenizer('spacy', language='en_core_web_sm')"
   ]
  },
  {
   "cell_type": "code",
   "execution_count": 10,
   "metadata": {},
   "outputs": [],
   "source": [
    "def build_vocab(filepath,tokenizer):\n",
    "    counter = Counter()\n",
    "    with io.open(filepath,encoding=\"utf8\") as f:\n",
    "        for string_ in f:\n",
    "            counter.update(tokenizer(string_))\n",
    "    return Vocab(counter,specials=['<unk>','<pad>','<sos>','<eos>'])\n",
    "de_vocab = build_vocab(train_filepaths[0],de_tokenizer)\n",
    "en_vocab = build_vocab(train_filepaths[1],en_tokenizer)"
   ]
  },
  {
   "cell_type": "code",
   "execution_count": 11,
   "metadata": {},
   "outputs": [
    {
     "data": {
      "text/plain": [
       "19215"
      ]
     },
     "execution_count": 11,
     "metadata": {},
     "output_type": "execute_result"
    }
   ],
   "source": [
    "len(de_vocab)"
   ]
  },
  {
   "cell_type": "code",
   "execution_count": 12,
   "metadata": {},
   "outputs": [],
   "source": [
    "def build_vocab(filepath,tokenizer):\n",
    "    counter = Counter()\n",
    "    with io.open(filepath,encoding=\"utf8\") as f:\n",
    "        for string_ in f:\n",
    "            counter.update(tokenizer(string_))\n",
    "    return Vocab(counter,specials=['<unk>','<pad>','<sos>','<eos>'])\n",
    "de_vocab = build_vocab(train_filepaths[0],de_tokenizer)\n",
    "en_vocab = build_vocab(train_filepaths[1],en_tokenizer)\n"
   ]
  },
  {
   "cell_type": "code",
   "execution_count": 13,
   "metadata": {},
   "outputs": [],
   "source": [
    "def data_process(filepaths):\n",
    "    raw_de_itr = iter(io.open(filepaths[0],encoding=\"utf8\"))\n",
    "    raw_en_itr = iter(io.open(filepaths[1],encoding=\"utf8\"))\n",
    "    data =[]\n",
    "    for(raw_de,raw_en) in zip(raw_de_itr,raw_en_itr):\n",
    "        de_tensor_ = torch.tensor([de_vocab[token] for token in de_tokenizer(raw_de)],dtype=torch.long)\n",
    "        en_tensor_ = torch.tensor([en_vocab[token] for token in en_tokenizer(raw_en)],\n",
    "                            dtype=torch.long)\n",
    "        data.append((de_tensor_, en_tensor_))\n",
    "    return data"
   ]
  },
  {
   "cell_type": "code",
   "execution_count": 14,
   "metadata": {},
   "outputs": [],
   "source": [
    "train_data = data_process(train_filepaths)\n",
    "val_data = data_process(val_filepaths)\n",
    "test_data = data_process(test_filepaths)"
   ]
  },
  {
   "cell_type": "code",
   "execution_count": 90,
   "metadata": {},
   "outputs": [
    {
     "data": {
      "text/plain": [
       "29000"
      ]
     },
     "execution_count": 90,
     "metadata": {},
     "output_type": "execute_result"
    }
   ],
   "source": [
    "len(train_data)"
   ]
  },
  {
   "cell_type": "code",
   "execution_count": 15,
   "metadata": {},
   "outputs": [],
   "source": [
    "\n",
    "device = torch.device('cuda' if torch.cuda.is_available() else 'cpu')"
   ]
  },
  {
   "cell_type": "code",
   "execution_count": 16,
   "metadata": {},
   "outputs": [],
   "source": [
    "BATCH_SIZE = 128\n",
    "PAD_IDX = de_vocab['<pad>']\n",
    "BOS_IDX = de_vocab['<sos>']\n",
    "EOS_IDX = de_vocab['<eos>']"
   ]
  },
  {
   "cell_type": "code",
   "execution_count": 17,
   "metadata": {},
   "outputs": [],
   "source": [
    "def generate_batch(data_batch):\n",
    "    de_batch, en_batch = [], []\n",
    "    src_pad_masks,tgt_pad_masks = [],[]\n",
    "    for (de_item, en_item) in data_batch:\n",
    "        de_batch.append(torch.cat([torch.tensor([BOS_IDX]), de_item, torch.tensor([EOS_IDX])], dim=0))\n",
    "        en_batch.append(en_item)\n",
    "    de_batch = pad_sequence(de_batch, batch_first=True,padding_value=PAD_IDX)\n",
    "    en_batch = pad_sequence(en_batch, batch_first=True,padding_value=PAD_IDX)\n",
    "    for en_item in en_batch:\n",
    "        curr_mask = en_item == PAD_IDX\n",
    "        src_pad_masks.append(curr_mask)\n",
    "    src_pad_masks = torch.stack(src_pad_masks)\n",
    "    for de_item in de_batch:\n",
    "        curr_mask = torch.logical_or(de_item == PAD_IDX,de_item == EOS_IDX)[:-1]\n",
    "        tgt_pad_masks.append(curr_mask)\n",
    "    tgt_pad_masks = torch.stack(tgt_pad_masks)\n",
    "    return en_batch,de_batch,src_pad_masks,tgt_pad_masks"
   ]
  },
  {
   "cell_type": "code",
   "execution_count": 18,
   "metadata": {},
   "outputs": [],
   "source": [
    "train_iter = DataLoader(train_data, batch_size=BATCH_SIZE,\n",
    "                        shuffle=True, collate_fn=generate_batch,num_workers=4)\n",
    "valid_iter = DataLoader(val_data, batch_size=BATCH_SIZE,\n",
    "                        shuffle=True, collate_fn=generate_batch,num_workers=4)\n",
    "test_iter = DataLoader(test_data, batch_size=BATCH_SIZE,\n",
    "                       shuffle=True, collate_fn=generate_batch,num_workers=4)"
   ]
  },
  {
   "cell_type": "code",
   "execution_count": 19,
   "metadata": {},
   "outputs": [],
   "source": [
    "def gen_nopeek_mask(length):\n",
    "    mask = rearrange(torch.triu(torch.ones(length, length)) == 1, 'h w -> w h')\n",
    "    mask = mask.float().masked_fill(mask == 0, float('-inf')).masked_fill(mask == 1, float(0.0))\n",
    "\n",
    "    return mask  "
   ]
  },
  {
   "cell_type": "code",
   "execution_count": 20,
   "metadata": {},
   "outputs": [],
   "source": [
    "class PositionalEncoding(nn.Module):\n",
    "\n",
    "    def __init__(self, d_model, dropout=0.1, max_len=5000):\n",
    "        super(PositionalEncoding, self).__init__()\n",
    "        self.dropout = nn.Dropout(p=dropout)\n",
    "\n",
    "        pe = torch.zeros(max_len, d_model)\n",
    "        position = torch.arange(0, max_len, dtype=torch.float).unsqueeze(1)\n",
    "        div_term = torch.exp(torch.arange(0, d_model, 2).float() * (-math.log(10000.0) / d_model))\n",
    "        pe[:, 0::2] = torch.sin(position * div_term)\n",
    "        pe[:, 1::2] = torch.cos(position * div_term)\n",
    "        pe = pe.unsqueeze(0).transpose(0, 1)\n",
    "        self.register_buffer('pe', pe)\n",
    "\n",
    "    def forward(self, x):\n",
    "        x = x + self.pe[:x.size(0), :]\n",
    "        return self.dropout(x)"
   ]
  },
  {
   "cell_type": "code",
   "execution_count": 21,
   "metadata": {},
   "outputs": [],
   "source": [
    "class TransformerTranlator(nn.Module):\n",
    "    def __init__(self,in_token,out_token,ninp,nhead,nhid,nlayers,dropout=0.5):\n",
    "        super(TransformerTranlator, self).__init__()\n",
    "        self.ninp = ninp\n",
    "        self.encoder_embedding = nn.Embedding(in_token,ninp)\n",
    "        self.decoder_embedding = nn.Embedding(out_token,ninp)\n",
    "        self.pos_encoder = PositionalEncoding(ninp,dropout)\n",
    "        self.transformer = nn.Transformer(d_model=ninp,nhead=nhead,num_encoder_layers=nlayers,num_decoder_layers=nlayers,dim_feedforward=nhid,dropout=dropout)\n",
    "        self.fc = nn.Linear(ninp,out_token)\n",
    "        \n",
    "    def generate(self,out):\n",
    "        output = rearrange(out,'t n e -> n t e')\n",
    "        output = self.fc(output)\n",
    "        return output\n",
    "\n",
    "    def forward(self,src,src_pad_mask,tgt,tgt_mask,tgt_pad_mask,mem_mask):\n",
    "        src = self.encoder_embedding(src) * math.sqrt(self.ninp)\n",
    "        src = self.pos_encoder(src)\n",
    "        src = rearrange(src,'n s e-> s n e')\n",
    "        \n",
    "        tgt = self.decoder_embedding(tgt) * math.sqrt(self.ninp)\n",
    "        tgt = self.pos_encoder(tgt)\n",
    "        tgt = rearrange(tgt, 'n t e-> t n e')\n",
    "        \n",
    "        out = self.transformer(src=src,src_key_padding_mask=src_pad_mask,tgt=tgt,tgt_mask=tgt_mask,tgt_key_padding_mask=tgt_pad_mask,memory_key_padding_mask=mem_mask)\n",
    "        return self.generate(out)"
   ]
  },
  {
   "cell_type": "code",
   "execution_count": 22,
   "metadata": {},
   "outputs": [],
   "source": [
    "#Hyperparameters\n",
    "in_token = len(en_vocab)\n",
    "out_token = len(de_vocab)\n",
    "\n",
    "emsize = 768\n",
    "nhid = 256\n",
    "nlayers = 6\n",
    "nhead = 6\n",
    "dropout = 0.2\n",
    "batch_size = 128\n",
    "device = torch.device(\"cuda\" if torch.cuda.is_available() else \"cpu\")"
   ]
  },
  {
   "cell_type": "code",
   "execution_count": 23,
   "metadata": {},
   "outputs": [],
   "source": [
    "model = TransformerTranlator(in_token,out_token,emsize,nhead,nhid,nlayers,dropout).to(device)\n",
    "optim = torch.optim.SGD(model.parameters(),lr=0.01)\n",
    "criterion = nn.CrossEntropyLoss(ignore_index=0)"
   ]
  },
  {
   "cell_type": "code",
   "execution_count": 24,
   "metadata": {},
   "outputs": [
    {
     "data": {
      "text/plain": [
       "8"
      ]
     },
     "execution_count": 24,
     "metadata": {},
     "output_type": "execute_result"
    }
   ],
   "source": [
    "len(valid_iter)"
   ]
  },
  {
   "cell_type": "code",
   "execution_count": 25,
   "metadata": {},
   "outputs": [],
   "source": [
    "def evaluate(model,epoch):\n",
    "    model.eval()\n",
    "    total_loss = 0\n",
    "    start_time = time.time()\n",
    "    with torch.no_grad():\n",
    "        for i,(en_batch,de_batch,src_pad_masks,tgt_pad_masks) in enumerate(valid_iter):\n",
    "            en_batch = en_batch.to(device)\n",
    "            de_batch = de_batch.to(device)\n",
    "            src_pad_masks = src_pad_masks.to(device)\n",
    "            tgt_pad_masks = tgt_pad_masks.to(device)\n",
    "            optim.zero_grad()\n",
    "            tgt_in = de_batch[:,:-1]\n",
    "            tgt_out = de_batch[:,1:]\n",
    "\n",
    "            tgt_mask = gen_nopeek_mask(tgt_in.shape[1]).to(device)\n",
    "            mem_pad_mask = src_pad_masks.clone()\n",
    "\n",
    "            output = model(en_batch,src_pad_masks,tgt_in,tgt_mask,tgt_pad_masks,mem_pad_mask)\n",
    "            loss = criterion(rearrange(output, 'b t v -> (b t) v'), rearrange(tgt_out, 'b o -> (b o)'))\n",
    "            total_loss += loss.item()\n",
    "        elapsed = time.time() - start_time\n",
    "\n",
    "        curr_loss = total_loss / len(valid_iter)\n",
    "        print(\"Eval Epoch: {:d} Loss: {:.2f} | Batches/sec: {:.2f}\".format(epoch,curr_loss,len(valid_iter) / elapsed))\n",
    "        writer.add_scalar('Evaluation Loss',curr_loss,epoch)\n",
    "        writer.add_scalar('Evaluation Speed',len(valid_iter)/elapsed,epoch)"
   ]
  },
  {
   "cell_type": "code",
   "execution_count": 26,
   "metadata": {},
   "outputs": [
    {
     "data": {
      "text/plain": [
       "227"
      ]
     },
     "execution_count": 26,
     "metadata": {},
     "output_type": "execute_result"
    }
   ],
   "source": [
    "len(train_iter)"
   ]
  },
  {
   "cell_type": "code",
   "execution_count": 27,
   "metadata": {},
   "outputs": [],
   "source": [
    "def train(model,writer,epochs):\n",
    "    log_interval = 100\n",
    "    total_loss = 0\n",
    "    start_time = time.time()\n",
    "    num_batch = len(train_iter)\n",
    "    for epoch in range(epochs):\n",
    "        print(\"Epoch: \",epoch)\n",
    "        model.train()\n",
    "        for i,(en_batch,de_batch,src_pad_masks,tgt_pad_masks) in enumerate(train_iter):\n",
    "            en_batch = en_batch.to(device)\n",
    "            de_batch = de_batch.to(device)\n",
    "            src_pad_masks = src_pad_masks.to(device)\n",
    "            tgt_pad_masks = tgt_pad_masks.to(device)\n",
    "            optim.zero_grad()\n",
    "            tgt_in = de_batch[:,:-1]\n",
    "            tgt_out = de_batch[:,1:]\n",
    "\n",
    "            tgt_mask = gen_nopeek_mask(tgt_in.shape[1]).to(device)\n",
    "            mem_pad_mask = src_pad_masks.clone()\n",
    "\n",
    "            output = model(en_batch,src_pad_masks,tgt_in,tgt_mask,tgt_pad_masks,mem_pad_mask)\n",
    "            loss = criterion(rearrange(output, 'b t v -> (b t) v'), rearrange(tgt_out, 'b o -> (b o)'))\n",
    "            total_loss += loss.detach().item()\n",
    "            if(i % log_interval == 0 and i != 0):\n",
    "                elapsed = time.time() - start_time\n",
    "                total_batches = epoch*len(train_iter) + i\n",
    "                curr_loss = total_loss / log_interval\n",
    "                print(\"Training Loss: {:.2f} | Batches/sec: {:.2f} | Total batches: {:d}\".format(curr_loss,log_interval / elapsed,total_batches))\n",
    "                \n",
    "                writer.add_scalar('Training Loss',curr_loss,total_batches)\n",
    "                writer.add_scalar('Training Speed',log_interval/elapsed,total_batches)\n",
    "                total_loss = 0\n",
    "                start_time = time.time()\n",
    "            loss.backward()\n",
    "            optim.step()\n",
    "        evaluate(model,epoch)"
   ]
  },
  {
   "cell_type": "code",
   "execution_count": 28,
   "metadata": {},
   "outputs": [
    {
     "name": "stdout",
     "output_type": "stream",
     "text": [
      "Epoch:  0\n",
      "Training Loss: 4.66 | Batches/sec: 1.94 | Total batches: 100\n",
      "Training Loss: 3.47 | Batches/sec: 1.79 | Total batches: 200\n",
      "Eval Epoch: 0 Loss: 3.05 | Batches/sec: 4.62\n",
      "Epoch:  1\n",
      "Training Loss: 4.00 | Batches/sec: 1.40 | Total batches: 327\n",
      "Training Loss: 3.01 | Batches/sec: 1.83 | Total batches: 427\n",
      "Eval Epoch: 1 Loss: 2.68 | Batches/sec: 4.49\n",
      "Epoch:  2\n",
      "Training Loss: 3.66 | Batches/sec: 1.39 | Total batches: 554\n",
      "Training Loss: 2.82 | Batches/sec: 1.85 | Total batches: 654\n",
      "Eval Epoch: 2 Loss: 2.56 | Batches/sec: 4.51\n",
      "Epoch:  3\n",
      "Training Loss: 3.51 | Batches/sec: 1.40 | Total batches: 781\n",
      "Training Loss: 2.69 | Batches/sec: 1.82 | Total batches: 881\n",
      "Eval Epoch: 3 Loss: 2.50 | Batches/sec: 4.51\n",
      "Epoch:  4\n",
      "Training Loss: 3.38 | Batches/sec: 1.39 | Total batches: 1008\n",
      "Training Loss: 2.64 | Batches/sec: 1.81 | Total batches: 1108\n",
      "Eval Epoch: 4 Loss: 2.52 | Batches/sec: 4.60\n",
      "Epoch:  5\n",
      "Training Loss: 3.39 | Batches/sec: 1.41 | Total batches: 1235\n",
      "Training Loss: 2.59 | Batches/sec: 1.82 | Total batches: 1335\n",
      "Eval Epoch: 5 Loss: 2.47 | Batches/sec: 4.54\n",
      "Epoch:  6\n",
      "Training Loss: 3.27 | Batches/sec: 1.40 | Total batches: 1462\n",
      "Training Loss: 2.53 | Batches/sec: 1.80 | Total batches: 1562\n",
      "Eval Epoch: 6 Loss: 2.37 | Batches/sec: 4.41\n",
      "Epoch:  7\n",
      "Training Loss: 3.27 | Batches/sec: 1.40 | Total batches: 1689\n",
      "Training Loss: 2.54 | Batches/sec: 1.82 | Total batches: 1789\n",
      "Eval Epoch: 7 Loss: 2.39 | Batches/sec: 4.52\n",
      "Epoch:  8\n",
      "Training Loss: 3.15 | Batches/sec: 1.37 | Total batches: 1916\n",
      "Training Loss: 2.56 | Batches/sec: 1.85 | Total batches: 2016\n",
      "Eval Epoch: 8 Loss: 2.39 | Batches/sec: 4.53\n",
      "Epoch:  9\n",
      "Training Loss: 3.16 | Batches/sec: 1.39 | Total batches: 2143\n",
      "Training Loss: 2.51 | Batches/sec: 1.83 | Total batches: 2243\n",
      "Eval Epoch: 9 Loss: 2.25 | Batches/sec: 4.41\n",
      "Epoch:  10\n",
      "Training Loss: 3.18 | Batches/sec: 1.41 | Total batches: 2370\n",
      "Training Loss: 2.46 | Batches/sec: 1.83 | Total batches: 2470\n",
      "Eval Epoch: 10 Loss: 2.33 | Batches/sec: 4.55\n",
      "Epoch:  11\n",
      "Training Loss: 3.12 | Batches/sec: 1.40 | Total batches: 2597\n",
      "Training Loss: 2.44 | Batches/sec: 1.85 | Total batches: 2697\n",
      "Eval Epoch: 11 Loss: 2.38 | Batches/sec: 4.57\n",
      "Epoch:  12\n",
      "Training Loss: 3.07 | Batches/sec: 1.39 | Total batches: 2824\n",
      "Training Loss: 2.43 | Batches/sec: 1.83 | Total batches: 2924\n",
      "Eval Epoch: 12 Loss: 2.33 | Batches/sec: 4.63\n",
      "Epoch:  13\n",
      "Training Loss: 3.08 | Batches/sec: 1.42 | Total batches: 3051\n",
      "Training Loss: 2.39 | Batches/sec: 1.81 | Total batches: 3151\n",
      "Eval Epoch: 13 Loss: 2.22 | Batches/sec: 4.45\n",
      "Epoch:  14\n",
      "Training Loss: 3.02 | Batches/sec: 1.40 | Total batches: 3278\n",
      "Training Loss: 2.40 | Batches/sec: 1.82 | Total batches: 3378\n",
      "Eval Epoch: 14 Loss: 2.15 | Batches/sec: 4.46\n",
      "Epoch:  15\n",
      "Training Loss: 3.00 | Batches/sec: 1.40 | Total batches: 3505\n",
      "Training Loss: 2.34 | Batches/sec: 1.81 | Total batches: 3605\n",
      "Eval Epoch: 15 Loss: 2.24 | Batches/sec: 4.57\n",
      "Epoch:  16\n",
      "Training Loss: 3.01 | Batches/sec: 1.41 | Total batches: 3732\n",
      "Training Loss: 2.33 | Batches/sec: 1.80 | Total batches: 3832\n",
      "Eval Epoch: 16 Loss: 2.24 | Batches/sec: 4.57\n",
      "Epoch:  17\n",
      "Training Loss: 2.98 | Batches/sec: 1.40 | Total batches: 3959\n",
      "Training Loss: 2.31 | Batches/sec: 1.81 | Total batches: 4059\n",
      "Eval Epoch: 17 Loss: 2.20 | Batches/sec: 4.54\n",
      "Epoch:  18\n",
      "Training Loss: 2.91 | Batches/sec: 1.38 | Total batches: 4186\n",
      "Training Loss: 2.31 | Batches/sec: 1.81 | Total batches: 4286\n",
      "Eval Epoch: 18 Loss: 2.14 | Batches/sec: 4.50\n",
      "Epoch:  19\n",
      "Training Loss: 2.94 | Batches/sec: 1.41 | Total batches: 4413\n",
      "Training Loss: 2.33 | Batches/sec: 1.86 | Total batches: 4513\n",
      "Eval Epoch: 19 Loss: 2.12 | Batches/sec: 4.54\n",
      "Epoch:  20\n",
      "Training Loss: 2.92 | Batches/sec: 1.41 | Total batches: 4640\n",
      "Training Loss: 2.28 | Batches/sec: 1.82 | Total batches: 4740\n",
      "Eval Epoch: 20 Loss: 2.10 | Batches/sec: 4.51\n",
      "Epoch:  21\n",
      "Training Loss: 2.92 | Batches/sec: 1.41 | Total batches: 4867\n",
      "Training Loss: 2.28 | Batches/sec: 1.81 | Total batches: 4967\n",
      "Eval Epoch: 21 Loss: 2.10 | Batches/sec: 4.50\n",
      "Epoch:  22\n",
      "Training Loss: 2.88 | Batches/sec: 1.40 | Total batches: 5094\n",
      "Training Loss: 2.27 | Batches/sec: 1.82 | Total batches: 5194\n",
      "Eval Epoch: 22 Loss: 2.22 | Batches/sec: 4.61\n",
      "Epoch:  23\n",
      "Training Loss: 2.89 | Batches/sec: 1.41 | Total batches: 5321\n",
      "Training Loss: 2.26 | Batches/sec: 1.82 | Total batches: 5421\n",
      "Eval Epoch: 23 Loss: 2.14 | Batches/sec: 4.58\n",
      "Epoch:  24\n",
      "Training Loss: 2.87 | Batches/sec: 1.41 | Total batches: 5548\n",
      "Training Loss: 2.22 | Batches/sec: 1.82 | Total batches: 5648\n",
      "Eval Epoch: 24 Loss: 2.03 | Batches/sec: 4.43\n",
      "Epoch:  25\n",
      "Training Loss: 2.86 | Batches/sec: 1.40 | Total batches: 5775\n",
      "Training Loss: 2.20 | Batches/sec: 1.80 | Total batches: 5875\n",
      "Eval Epoch: 25 Loss: 2.01 | Batches/sec: 4.42\n",
      "Epoch:  26\n",
      "Training Loss: 2.85 | Batches/sec: 1.41 | Total batches: 6002\n",
      "Training Loss: 2.23 | Batches/sec: 1.85 | Total batches: 6102\n",
      "Eval Epoch: 26 Loss: 2.10 | Batches/sec: 4.54\n",
      "Epoch:  27\n",
      "Training Loss: 2.81 | Batches/sec: 1.39 | Total batches: 6229\n",
      "Training Loss: 2.21 | Batches/sec: 1.81 | Total batches: 6329\n",
      "Eval Epoch: 27 Loss: 2.06 | Batches/sec: 4.50\n",
      "Epoch:  28\n",
      "Training Loss: 2.78 | Batches/sec: 1.39 | Total batches: 6456\n",
      "Training Loss: 2.21 | Batches/sec: 1.82 | Total batches: 6556\n",
      "Eval Epoch: 28 Loss: 1.99 | Batches/sec: 4.46\n",
      "Epoch:  29\n",
      "Training Loss: 2.80 | Batches/sec: 1.41 | Total batches: 6683\n",
      "Training Loss: 2.17 | Batches/sec: 1.81 | Total batches: 6783\n",
      "Eval Epoch: 29 Loss: 2.03 | Batches/sec: 4.49\n",
      "Epoch:  30\n",
      "Training Loss: 2.77 | Batches/sec: 1.44 | Total batches: 6910\n",
      "Training Loss: 2.17 | Batches/sec: 1.89 | Total batches: 7010\n",
      "Eval Epoch: 30 Loss: 2.08 | Batches/sec: 4.69\n",
      "Epoch:  31\n",
      "Training Loss: 2.75 | Batches/sec: 1.46 | Total batches: 7137\n",
      "Training Loss: 2.18 | Batches/sec: 1.93 | Total batches: 7237\n",
      "Eval Epoch: 31 Loss: 2.02 | Batches/sec: 4.72\n",
      "Epoch:  32\n",
      "Training Loss: 2.76 | Batches/sec: 1.48 | Total batches: 7364\n",
      "Training Loss: 2.16 | Batches/sec: 1.92 | Total batches: 7464\n",
      "Eval Epoch: 32 Loss: 2.02 | Batches/sec: 4.75\n",
      "Epoch:  33\n",
      "Training Loss: 2.73 | Batches/sec: 1.49 | Total batches: 7591\n",
      "Training Loss: 2.12 | Batches/sec: 1.90 | Total batches: 7691\n",
      "Eval Epoch: 33 Loss: 2.04 | Batches/sec: 4.79\n",
      "Epoch:  34\n",
      "Training Loss: 2.71 | Batches/sec: 1.48 | Total batches: 7818\n",
      "Training Loss: 2.14 | Batches/sec: 1.92 | Total batches: 7918\n",
      "Eval Epoch: 34 Loss: 1.97 | Batches/sec: 4.70\n",
      "Epoch:  35\n",
      "Training Loss: 2.71 | Batches/sec: 1.48 | Total batches: 8045\n",
      "Training Loss: 2.14 | Batches/sec: 1.92 | Total batches: 8145\n",
      "Eval Epoch: 35 Loss: 1.95 | Batches/sec: 4.69\n",
      "Epoch:  36\n",
      "Training Loss: 2.67 | Batches/sec: 1.47 | Total batches: 8272\n",
      "Training Loss: 2.16 | Batches/sec: 1.95 | Total batches: 8372\n",
      "Eval Epoch: 36 Loss: 1.98 | Batches/sec: 4.74\n",
      "Epoch:  37\n",
      "Training Loss: 2.68 | Batches/sec: 1.47 | Total batches: 8499\n",
      "Training Loss: 2.12 | Batches/sec: 1.96 | Total batches: 8599\n",
      "Eval Epoch: 37 Loss: 2.03 | Batches/sec: 4.75\n",
      "Epoch:  38\n",
      "Training Loss: 2.66 | Batches/sec: 1.48 | Total batches: 8726\n",
      "Training Loss: 2.11 | Batches/sec: 1.93 | Total batches: 8826\n",
      "Eval Epoch: 38 Loss: 2.05 | Batches/sec: 4.93\n",
      "Epoch:  39\n",
      "Training Loss: 2.70 | Batches/sec: 1.51 | Total batches: 8953\n",
      "Training Loss: 2.08 | Batches/sec: 1.89 | Total batches: 9053\n",
      "Eval Epoch: 39 Loss: 1.95 | Batches/sec: 4.35\n"
     ]
    }
   ],
   "source": [
    "currTime = datetime.now().strftime(\"%d%m%Y%H%M%S\")\n",
    "writer = SummaryWriter('runs/'+ currTime)\n",
    "train(model,writer,40)"
   ]
  },
  {
   "cell_type": "code",
   "execution_count": null,
   "metadata": {},
   "outputs": [],
   "source": []
  }
 ],
 "metadata": {
  "kernelspec": {
   "display_name": "Python 3",
   "language": "python",
   "name": "python3"
  },
  "language_info": {
   "codemirror_mode": {
    "name": "ipython",
    "version": 3
   },
   "file_extension": ".py",
   "mimetype": "text/x-python",
   "name": "python",
   "nbconvert_exporter": "python",
   "pygments_lexer": "ipython3",
   "version": "3.8.5"
  }
 },
 "nbformat": 4,
 "nbformat_minor": 4
}
